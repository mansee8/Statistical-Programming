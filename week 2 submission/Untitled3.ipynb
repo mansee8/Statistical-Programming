{
 "cells": [
  {
   "cell_type": "code",
   "execution_count": 24,
   "metadata": {
    "collapsed": false
   },
   "outputs": [
    {
     "name": "stdout",
     "output_type": "stream",
     "text": [
      "MY_lm_sweep results\n",
      "[  7.09432241e+01   5.18003638e-05  -2.18042378e-05   3.38203214e-02\n",
      "  -3.01123170e-01   4.89294789e-02  -5.73500110e-03  -7.38316614e-08]\n",
      "My_lm_QR results\n",
      "[  7.09432241e+01   5.18003638e-05  -2.18042378e-05   3.38203214e-02\n",
      "  -3.01123170e-01   4.89294789e-02  -5.73500110e-03  -7.38316615e-08]\n"
     ]
    }
   ],
   "source": [
    "import numpy as np\n",
    "\n",
    "def mySweep(X, m):\n",
    "    A = np.copy(X)\n",
    "    n, c = A.shape\n",
    "    for k in range(m):\n",
    "        for i in range(n):\n",
    "            for j in range(n):\n",
    "                if i != k and j != k:\n",
    "                    A[i,j] = A[i,j]- A[i,k]*A[k,j]/A[k,k]\n",
    "\n",
    "        for i in range(n):\n",
    "            if i != k:\n",
    "                A[i,k] = A[i,k]/A[k,k]\n",
    "\n",
    "        for j in range(n):\n",
    "            if j != k:\n",
    "                A[k,j] = A[k,j]/A[k,k]\n",
    "\n",
    "        A[k,k] = -1/A[k,k]\n",
    "    return A\n",
    "\n",
    "\n",
    "from scipy import linalg\n",
    "def myqr(A):\n",
    "    n, m = A.shape\n",
    "    R = A.copy()\n",
    "    Q = np.eye(n)\n",
    "\n",
    "    for k in range(m-1):\n",
    "        x = np.zeros((n, 1))\n",
    "        x[k:, 0] = R[k:, k]\n",
    "        v = x\n",
    "        v[k] = x[k] + np.sign(x[k,0]) * np.linalg.norm(x)\n",
    "\n",
    "        s = np.linalg.norm(v)\n",
    "        if s != 0:\n",
    "            u = v / s\n",
    "            R -= 2 * np.dot(u, np.dot(u.T, R))\n",
    "            Q -= 2 * np.dot(u, np.dot(u.T, Q))\n",
    "    Q = Q.T\n",
    "    return Q, R\n",
    "\n",
    "def mylm_sweep(X,Y):\n",
    "    n = X.shape[0]\n",
    "    X1  = np.hstack((np.ones((n, 1)), X))\n",
    "\n",
    "    value_ii = np.dot(np.transpose(X1),X1)\n",
    "    value_ij = np.dot(np.transpose(X1),Y)\n",
    "    value_ji = np.dot(np.transpose(Y),X1)\n",
    "    value_jj = np.dot(np.transpose(Y), Y)\n",
    "    rb_for_sweep_one=np.vstack((value_ii,value_ji))\n",
    "    rb_for_sweep_two=np.vstack(( value_ij,value_jj))\n",
    "    input_forsweep= np.hstack((rb_for_sweep_one,rb_for_sweep_two))\n",
    "\n",
    "    beta = mySweep(input_forsweep,8)\n",
    "    beta_hat = beta[0:8,9]\n",
    "    return beta_hat\n",
    "\n",
    "\n",
    "def mylm_qr(X, Y):\n",
    "    n = X.shape[0]\n",
    "    p = X.shape[1]\n",
    "    X1  = np.hstack((np.ones((n, 1)), X, Y))\n",
    "    Q, R = myqr(X1)\n",
    "    R1 = R[0:p, 0:p]\n",
    "    Y1 = R[0:p, p+1]\n",
    "    #defining mysolve function to get inverse which is (RT*R)-1 * RT*Y\n",
    "    \n",
    "    ans_inv = -np.dot(np.dot(mySweep(np.dot(np.transpose(R1),R1), p), np.transpose(R1)), Y1)\n",
    "\n",
    "    return ans_inv\n",
    "\n",
    "\n",
    "\n",
    "# read from text for the state.x77 data\n",
    "input_data = np.loadtxt(open('state_x77.csv','rb'), delimiter=',', skiprows=1, usecols=range(1,10))\n",
    "X = np.hstack((input_data[:,0:3], input_data[:,4:10]))\n",
    "Y = data[:,3:4]\n",
    "print \"MY_lm_sweep results\"\n",
    "print(mylm_sweep(X, Y))\n",
    "print \"My_lm_QR results\"\n",
    "print(mylm_qr(X, Y))\n"
   ]
  },
  {
   "cell_type": "code",
   "execution_count": null,
   "metadata": {
    "collapsed": true
   },
   "outputs": [],
   "source": []
  },
  {
   "cell_type": "code",
   "execution_count": null,
   "metadata": {
    "collapsed": true
   },
   "outputs": [],
   "source": []
  }
 ],
 "metadata": {
  "kernelspec": {
   "display_name": "Python 2",
   "language": "python",
   "name": "python2"
  },
  "language_info": {
   "codemirror_mode": {
    "name": "ipython",
    "version": 2
   },
   "file_extension": ".py",
   "mimetype": "text/x-python",
   "name": "python",
   "nbconvert_exporter": "python",
   "pygments_lexer": "ipython2",
   "version": "2.7.10"
  }
 },
 "nbformat": 4,
 "nbformat_minor": 0
}
